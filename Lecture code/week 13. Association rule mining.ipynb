{
 "cells": [
  {
   "cell_type": "code",
   "execution_count": null,
   "id": "cb0c343f-13d9-44f5-9982-ef92df4e6859",
   "metadata": {},
   "outputs": [],
   "source": [
    "# install the library for association rule mining"
   ]
  },
  {
   "cell_type": "code",
   "execution_count": 2,
   "id": "91c75d94-0a5a-4ec2-9d77-b3f70420825a",
   "metadata": {},
   "outputs": [
    {
     "name": "stdout",
     "output_type": "stream",
     "text": [
      "Collecting apyori\n",
      "  Downloading apyori-1.1.2.tar.gz (8.6 kB)\n",
      "  Preparing metadata (setup.py) ... \u001b[?25ldone\n",
      "\u001b[?25hBuilding wheels for collected packages: apyori\n",
      "  Building wheel for apyori (setup.py) ... \u001b[?25ldone\n",
      "\u001b[?25h  Created wheel for apyori: filename=apyori-1.1.2-py3-none-any.whl size=5955 sha256=d93dfa12ec8d9760748fcea2fe827326dcbc60e5375ee29e1e7bd046fea4959b\n",
      "  Stored in directory: /Users/taekholee/Library/Caches/pip/wheels/32/2a/54/10c595515f385f3726642b10c60bf788029e8f3a1323e3913a\n",
      "Successfully built apyori\n",
      "Installing collected packages: apyori\n",
      "Successfully installed apyori-1.1.2\n"
     ]
    }
   ],
   "source": [
    "!pip install apyori"
   ]
  },
  {
   "cell_type": "code",
   "execution_count": null,
   "id": "2b8c9d67-9480-49e4-9912-69344ad9ca70",
   "metadata": {},
   "outputs": [],
   "source": [
    "# import libraries"
   ]
  },
  {
   "cell_type": "code",
   "execution_count": 11,
   "id": "60d6e622-67d8-4abf-aa99-5c569873ea87",
   "metadata": {},
   "outputs": [],
   "source": [
    "from apyori import apriori\n",
    "from pprint import pprint  # this will help pretty printing\n",
    "\n",
    "import numpy as np\n",
    "import pandas as pd"
   ]
  },
  {
   "cell_type": "code",
   "execution_count": 9,
   "id": "59229a32-5c12-4d78-9b9e-9fdc0ae19289",
   "metadata": {},
   "outputs": [],
   "source": [
    "# my example transaction dataset"
   ]
  },
  {
   "cell_type": "code",
   "execution_count": 12,
   "id": "1b121f25-c859-4cec-9cbc-afa46dffd05b",
   "metadata": {},
   "outputs": [
    {
     "name": "stdout",
     "output_type": "stream",
     "text": [
      "[['b', 'c', 'g'],\n",
      " ['a', 'b', 'd', 'e', 'f'],\n",
      " ['a', 'b', 'c', 'g'],\n",
      " ['b', 'c', 'e', 'f'],\n",
      " ['b', 'c', 'e', 'f', 'g']]\n"
     ]
    }
   ],
   "source": [
    "# create example data for association rule mining\n",
    "trans = [['b', 'c', 'g'],\n",
    "        ['a', 'b', 'd', 'e', 'f'],\n",
    "        ['a', 'b', 'c', 'g'],\n",
    "        ['b', 'c', 'e', 'f'],\n",
    "        ['b', 'c', 'e', 'f', 'g']]\n",
    "\n",
    "pprint(trans)"
   ]
  },
  {
   "cell_type": "code",
   "execution_count": 14,
   "id": "a740a69b-6ee0-47ef-99e9-339f78d48001",
   "metadata": {},
   "outputs": [
    {
     "name": "stdout",
     "output_type": "stream",
     "text": [
      "[['b', 'c', 'g'], ['a', 'b', 'd', 'e', 'f'], ['a', 'b', 'c', 'g'], ['b', 'c', 'e', 'f'], ['b', 'c', 'e', 'f', 'g']]\n"
     ]
    }
   ],
   "source": [
    "# compare the print result.\n",
    "print(trans)"
   ]
  },
  {
   "cell_type": "code",
   "execution_count": 16,
   "id": "4b8a57f5-dd51-4b0d-a1e2-97a2bc690b2c",
   "metadata": {},
   "outputs": [],
   "source": [
    "# here is the documentation of apriori\n",
    "\n",
    "#     Executes Apriori algorithm and returns a RelationRecord generator.\n",
    "\n",
    "#     Arguments:\n",
    "#         transactions -- A transaction iterable object\n",
    "#                         (eg. [['A', 'B'], ['B', 'C']]).\n",
    "\n",
    "#     Keyword arguments:\n",
    "#         min_support -- The minimum support of relations (float).\n",
    "#         min_confidence -- The minimum confidence of relations (float).\n",
    "#         min_lift -- The minimum lift of relations (float).\n",
    "#         max_length -- The maximum length of the relation (integer)."
   ]
  },
  {
   "cell_type": "code",
   "execution_count": 17,
   "id": "0907a95a-4b74-4114-8b51-c57112b7eea3",
   "metadata": {},
   "outputs": [],
   "source": [
    "# Default values for four parameters are 0.1, 0.0, 0.0, and None in order."
   ]
  },
  {
   "cell_type": "code",
   "execution_count": 18,
   "id": "616ac26e-f9d0-4d79-87f4-b1239e6ebf82",
   "metadata": {},
   "outputs": [
    {
     "name": "stdout",
     "output_type": "stream",
     "text": [
      "RelationRecord(items=frozenset({'c', 'g'}), support=0.6, ordered_statistics=[OrderedStatistic(items_base=frozenset({'c'}), items_add=frozenset({'g'}), confidence=0.7499999999999999, lift=1.2499999999999998), OrderedStatistic(items_base=frozenset({'g'}), items_add=frozenset({'c'}), confidence=1.0, lift=1.25)])\n"
     ]
    }
   ],
   "source": [
    "min_supp = 0.5\n",
    "min_conf = 0.6\n",
    "min_lift = 1.01\n",
    "\n",
    "rules = apriori(trans, min_support=min_supp, min_confidence=min_conf, min_lift=min_lift)\n",
    "results = list(rules)  # to get the results, we need to make it as list.\n",
    "print(results[0])"
   ]
  },
  {
   "cell_type": "code",
   "execution_count": 24,
   "id": "b43a24cf-fc72-4a8e-950e-32f4721b3c60",
   "metadata": {},
   "outputs": [
    {
     "data": {
      "text/plain": [
       "list"
      ]
     },
     "execution_count": 24,
     "metadata": {},
     "output_type": "execute_result"
    }
   ],
   "source": [
    "type(results[0].ordered_statistics)"
   ]
  },
  {
   "cell_type": "code",
   "execution_count": 26,
   "id": "ad713ceb-4308-4b77-ad28-22f030a27136",
   "metadata": {},
   "outputs": [],
   "source": [
    "# Each element of results is about each frequent itemset.\n",
    "\n",
    "# If we look the results[0] in detail, it has three elements: items, support, and ordered_statistics.\n",
    "\n",
    "# 'items' is one of the discovered frequent itemsets.\n",
    "# 'support' is the relative frequency of the itemset.\n",
    "\n",
    "# For each frequent itemset, we need to split the itemset into conditions and results in order to \n",
    "# extract rules (condition -> result). We can extract several candidate rules from each itemset, \n",
    "# 'ordered_statistics' is list of extracted rules that satisfy our pre-specified parameters\n",
    "# (such as minimum confidence, minimum lift, and so on).\n",
    "\n",
    "# each element of 'ordered_statistics' consists of four rule information: condition of the rule (items_base), \n",
    "# result of the rule (items_add), confidence of the rule (confidence), and lift of the rule (lift).\n",
    "\n",
    "# let's see for the first element, results[0].s"
   ]
  },
  {
   "cell_type": "code",
   "execution_count": 28,
   "id": "c23cc006-8ea0-42c3-b20e-b3204083a768",
   "metadata": {},
   "outputs": [
    {
     "name": "stdout",
     "output_type": "stream",
     "text": [
      "frozenset({'c', 'g'})\n",
      "# rules: 2\n",
      "frozenset({'c'}) -> frozenset({'g'}) | support: 0.600 | confidence: 0.750 | lift: 1.250\n",
      "frozenset({'g'}) -> frozenset({'c'}) | support: 0.600 | confidence: 1.000 | lift: 1.250\n"
     ]
    }
   ],
   "source": [
    "line = results[0]\n",
    "itemset = line.items  # frequent itemset corresponding to 'results[0]'.\n",
    "print(itemset)\n",
    "\n",
    "n_sub = len(line.ordered_statistics)\n",
    "print(\"# rules:\", n_sub)  # there are 'n_sub' rules extracted from the frequent itemset 'results[0]'.\n",
    "\n",
    "for sub_rule_i in range(n_sub):\n",
    "    # get and print details for each rule from 'results[0]'.\n",
    "    \n",
    "    a = line.ordered_statistics[sub_rule_i].items_base  # condition of the rule\n",
    "    b = line.ordered_statistics[sub_rule_i].items_add  # result of the rule\n",
    "    supp = line.support  # support of the frequent itemset (not specific to 'sub_rule_i')\n",
    "    conf = line.ordered_statistics[sub_rule_i].confidence  # confidence of the rule\n",
    "    lift = line.ordered_statistics[sub_rule_i].lift  # lift of the rule\n",
    "\n",
    "    print(f\"{a} -> {b} | support: {supp:.3f} | confidence: {conf:.3f} | lift: {lift:.3f}\")"
   ]
  },
  {
   "cell_type": "code",
   "execution_count": 29,
   "id": "599b9c7d-d120-4be7-8ca7-e5136ea6cf28",
   "metadata": {},
   "outputs": [],
   "source": [
    "# make the above code that prints rules as function."
   ]
  },
  {
   "cell_type": "code",
   "execution_count": 36,
   "id": "a180731f-7969-4e42-9fad-4f9889e1fe2d",
   "metadata": {},
   "outputs": [],
   "source": [
    "def print_rule(line):\n",
    "    print(\"=\"*30)\n",
    "    freq_itemset = line.items\n",
    "    print(\"Frequent itemset:\", set(freq_itemset))\n",
    "\n",
    "    n_rule = len(line.ordered_statistics)\n",
    "    print(\"The number of rules:\", n_rule)\n",
    "\n",
    "    for i in range(n_rule):\n",
    "        a = line.ordered_statistics[i].items_base\n",
    "        b = line.ordered_statistics[i].items_add\n",
    "        supp = line.support\n",
    "        conf = line.ordered_statistics[i].confidence\n",
    "        lift = line.ordered_statistics[i].lift\n",
    "    \n",
    "        print(f\"{a} -> {b} | support: {supp:.3f} | confidence: {conf:.3f} | lift: {lift:.3f}\")\n",
    "    \n",
    "    return"
   ]
  },
  {
   "cell_type": "code",
   "execution_count": 37,
   "id": "e4f8a533-27a9-4501-a242-b7f35ec28123",
   "metadata": {},
   "outputs": [
    {
     "name": "stdout",
     "output_type": "stream",
     "text": [
      "==============================\n",
      "Frequent itemset: {'c', 'g'}\n",
      "The number of rules: 2\n",
      "frozenset({'c'}) -> frozenset({'g'}) | support: 0.600 | confidence: 0.750 | lift: 1.250\n",
      "frozenset({'g'}) -> frozenset({'c'}) | support: 0.600 | confidence: 1.000 | lift: 1.250\n",
      "==============================\n",
      "Frequent itemset: {'f', 'e'}\n",
      "The number of rules: 2\n",
      "frozenset({'e'}) -> frozenset({'f'}) | support: 0.600 | confidence: 1.000 | lift: 1.667\n",
      "frozenset({'f'}) -> frozenset({'e'}) | support: 0.600 | confidence: 1.000 | lift: 1.667\n",
      "==============================\n",
      "Frequent itemset: {'g', 'c', 'b'}\n",
      "The number of rules: 4\n",
      "frozenset({'c'}) -> frozenset({'b', 'g'}) | support: 0.600 | confidence: 0.750 | lift: 1.250\n",
      "frozenset({'g'}) -> frozenset({'c', 'b'}) | support: 0.600 | confidence: 1.000 | lift: 1.250\n",
      "frozenset({'c', 'b'}) -> frozenset({'g'}) | support: 0.600 | confidence: 0.750 | lift: 1.250\n",
      "frozenset({'g', 'b'}) -> frozenset({'c'}) | support: 0.600 | confidence: 1.000 | lift: 1.250\n",
      "==============================\n",
      "Frequent itemset: {'f', 'e', 'b'}\n",
      "The number of rules: 4\n",
      "frozenset({'e'}) -> frozenset({'f', 'b'}) | support: 0.600 | confidence: 1.000 | lift: 1.667\n",
      "frozenset({'f'}) -> frozenset({'b', 'e'}) | support: 0.600 | confidence: 1.000 | lift: 1.667\n",
      "frozenset({'e', 'b'}) -> frozenset({'f'}) | support: 0.600 | confidence: 1.000 | lift: 1.667\n",
      "frozenset({'f', 'b'}) -> frozenset({'e'}) | support: 0.600 | confidence: 1.000 | lift: 1.667\n"
     ]
    }
   ],
   "source": [
    "for line in results:\n",
    "    print_rule(line)"
   ]
  },
  {
   "cell_type": "code",
   "execution_count": 38,
   "id": "853dc4a6-8d29-4761-a7b2-0da042638d1c",
   "metadata": {},
   "outputs": [],
   "source": [
    "# apply this to real-world datasets."
   ]
  },
  {
   "cell_type": "code",
   "execution_count": 42,
   "id": "e8019b51-6a84-45b9-a24e-a03d5a6b99ee",
   "metadata": {},
   "outputs": [],
   "source": [
    "# load 100,000 rows for fast practice.\n",
    "df = pd.read_csv(\"./datasets/order_products__train.csv\", nrows=100_000)"
   ]
  },
  {
   "cell_type": "code",
   "execution_count": 43,
   "id": "23116b1f-0cf7-498a-9944-5b3fa4301efa",
   "metadata": {},
   "outputs": [
    {
     "data": {
      "text/html": [
       "<div>\n",
       "<style scoped>\n",
       "    .dataframe tbody tr th:only-of-type {\n",
       "        vertical-align: middle;\n",
       "    }\n",
       "\n",
       "    .dataframe tbody tr th {\n",
       "        vertical-align: top;\n",
       "    }\n",
       "\n",
       "    .dataframe thead th {\n",
       "        text-align: right;\n",
       "    }\n",
       "</style>\n",
       "<table border=\"1\" class=\"dataframe\">\n",
       "  <thead>\n",
       "    <tr style=\"text-align: right;\">\n",
       "      <th></th>\n",
       "      <th>order_id</th>\n",
       "      <th>product_id</th>\n",
       "      <th>add_to_cart_order</th>\n",
       "      <th>reordered</th>\n",
       "    </tr>\n",
       "  </thead>\n",
       "  <tbody>\n",
       "    <tr>\n",
       "      <th>0</th>\n",
       "      <td>1</td>\n",
       "      <td>49302</td>\n",
       "      <td>1</td>\n",
       "      <td>1</td>\n",
       "    </tr>\n",
       "    <tr>\n",
       "      <th>1</th>\n",
       "      <td>1</td>\n",
       "      <td>11109</td>\n",
       "      <td>2</td>\n",
       "      <td>1</td>\n",
       "    </tr>\n",
       "    <tr>\n",
       "      <th>2</th>\n",
       "      <td>1</td>\n",
       "      <td>10246</td>\n",
       "      <td>3</td>\n",
       "      <td>0</td>\n",
       "    </tr>\n",
       "    <tr>\n",
       "      <th>3</th>\n",
       "      <td>1</td>\n",
       "      <td>49683</td>\n",
       "      <td>4</td>\n",
       "      <td>0</td>\n",
       "    </tr>\n",
       "    <tr>\n",
       "      <th>4</th>\n",
       "      <td>1</td>\n",
       "      <td>43633</td>\n",
       "      <td>5</td>\n",
       "      <td>1</td>\n",
       "    </tr>\n",
       "  </tbody>\n",
       "</table>\n",
       "</div>"
      ],
      "text/plain": [
       "   order_id  product_id  add_to_cart_order  reordered\n",
       "0         1       49302                  1          1\n",
       "1         1       11109                  2          1\n",
       "2         1       10246                  3          0\n",
       "3         1       49683                  4          0\n",
       "4         1       43633                  5          1"
      ]
     },
     "execution_count": 43,
     "metadata": {},
     "output_type": "execute_result"
    }
   ],
   "source": [
    "df.head()"
   ]
  },
  {
   "cell_type": "code",
   "execution_count": 44,
   "id": "407b01ae-378f-4b3b-ad17-6206547a407e",
   "metadata": {},
   "outputs": [],
   "source": [
    "# this dataset includes order id and product id in an order of their addition to the cart. \n",
    "# It also includes information on whether it is reordered or not.\n",
    "\n",
    "# for association rule mining, we need to convert this dataset into forms of transaction data.\n",
    "# Transaction data is a list of transactions where each transaction is a list of products.\n",
    "\n",
    "# Therefore, we need to group product_id for the same order_id."
   ]
  },
  {
   "cell_type": "code",
   "execution_count": 45,
   "id": "939557c2-73f7-4beb-b1fd-b47c81db0c49",
   "metadata": {},
   "outputs": [],
   "source": [
    "# method 1. use groupby provided in pandas"
   ]
  },
  {
   "cell_type": "code",
   "execution_count": null,
   "id": "e0ff5b50-1a4c-421c-bc09-fd1d4ebd1908",
   "metadata": {},
   "outputs": [],
   "source": [
    "# to use groupby, we need a function that takes dataframe consisting of the same order_id as an input\n",
    "# and outputs list of product_id."
   ]
  },
  {
   "cell_type": "code",
   "execution_count": 46,
   "id": "15ebbac9-76f0-4c69-a23c-b48629b768ed",
   "metadata": {},
   "outputs": [
    {
     "data": {
      "text/html": [
       "<div>\n",
       "<style scoped>\n",
       "    .dataframe tbody tr th:only-of-type {\n",
       "        vertical-align: middle;\n",
       "    }\n",
       "\n",
       "    .dataframe tbody tr th {\n",
       "        vertical-align: top;\n",
       "    }\n",
       "\n",
       "    .dataframe thead th {\n",
       "        text-align: right;\n",
       "    }\n",
       "</style>\n",
       "<table border=\"1\" class=\"dataframe\">\n",
       "  <thead>\n",
       "    <tr style=\"text-align: right;\">\n",
       "      <th></th>\n",
       "      <th>order_id</th>\n",
       "      <th>product_id</th>\n",
       "      <th>add_to_cart_order</th>\n",
       "      <th>reordered</th>\n",
       "    </tr>\n",
       "  </thead>\n",
       "  <tbody>\n",
       "    <tr>\n",
       "      <th>0</th>\n",
       "      <td>1</td>\n",
       "      <td>49302</td>\n",
       "      <td>1</td>\n",
       "      <td>1</td>\n",
       "    </tr>\n",
       "    <tr>\n",
       "      <th>1</th>\n",
       "      <td>1</td>\n",
       "      <td>11109</td>\n",
       "      <td>2</td>\n",
       "      <td>1</td>\n",
       "    </tr>\n",
       "    <tr>\n",
       "      <th>2</th>\n",
       "      <td>1</td>\n",
       "      <td>10246</td>\n",
       "      <td>3</td>\n",
       "      <td>0</td>\n",
       "    </tr>\n",
       "    <tr>\n",
       "      <th>3</th>\n",
       "      <td>1</td>\n",
       "      <td>49683</td>\n",
       "      <td>4</td>\n",
       "      <td>0</td>\n",
       "    </tr>\n",
       "    <tr>\n",
       "      <th>4</th>\n",
       "      <td>1</td>\n",
       "      <td>43633</td>\n",
       "      <td>5</td>\n",
       "      <td>1</td>\n",
       "    </tr>\n",
       "    <tr>\n",
       "      <th>5</th>\n",
       "      <td>1</td>\n",
       "      <td>13176</td>\n",
       "      <td>6</td>\n",
       "      <td>0</td>\n",
       "    </tr>\n",
       "    <tr>\n",
       "      <th>6</th>\n",
       "      <td>1</td>\n",
       "      <td>47209</td>\n",
       "      <td>7</td>\n",
       "      <td>0</td>\n",
       "    </tr>\n",
       "    <tr>\n",
       "      <th>7</th>\n",
       "      <td>1</td>\n",
       "      <td>22035</td>\n",
       "      <td>8</td>\n",
       "      <td>1</td>\n",
       "    </tr>\n",
       "  </tbody>\n",
       "</table>\n",
       "</div>"
      ],
      "text/plain": [
       "   order_id  product_id  add_to_cart_order  reordered\n",
       "0         1       49302                  1          1\n",
       "1         1       11109                  2          1\n",
       "2         1       10246                  3          0\n",
       "3         1       49683                  4          0\n",
       "4         1       43633                  5          1\n",
       "5         1       13176                  6          0\n",
       "6         1       47209                  7          0\n",
       "7         1       22035                  8          1"
      ]
     },
     "execution_count": 46,
     "metadata": {},
     "output_type": "execute_result"
    }
   ],
   "source": [
    "# let's take an example with order_id is 1.\n",
    "sub_df = df[df[\"order_id\"] == 1]\n",
    "sub_df"
   ]
  },
  {
   "cell_type": "code",
   "execution_count": 47,
   "id": "863fd8dc-f228-4982-b281-484b0d131289",
   "metadata": {},
   "outputs": [
    {
     "data": {
      "text/plain": [
       "[49302, 11109, 10246, 49683, 43633, 13176, 47209, 22035]"
      ]
     },
     "execution_count": 47,
     "metadata": {},
     "output_type": "execute_result"
    }
   ],
   "source": [
    "# make list of product_id\n",
    "sub_df[\"product_id\"].tolist()"
   ]
  },
  {
   "cell_type": "code",
   "execution_count": 48,
   "id": "ac111a0a-0d14-4de8-9a8d-81a1e99a5e49",
   "metadata": {},
   "outputs": [],
   "source": [
    "def make_product_list(df_order):\n",
    "    \"\"\"\n",
    "    Args:\n",
    "        df_order: DataFrame\n",
    "            sub-group of the whole dataset with the same order_id.\n",
    "    \n",
    "    Notes:\n",
    "        Here, the input 'df_order' is corresponds to the 'sub_df' in the above example.\n",
    "    \"\"\"\n",
    "    return df_order[\"product_id\"].tolist()"
   ]
  },
  {
   "cell_type": "code",
   "execution_count": 53,
   "id": "4196b74c-5667-4225-b624-b80bfaef256d",
   "metadata": {},
   "outputs": [],
   "source": [
    "transactions = df.groupby(by=\"order_id\").apply(make_product_list, include_groups=False)"
   ]
  },
  {
   "cell_type": "code",
   "execution_count": 54,
   "id": "cdb23721-dd44-4dda-8786-cd262fe1b40e",
   "metadata": {},
   "outputs": [
    {
     "data": {
      "text/plain": [
       "order_id\n",
       "1         [49302, 11109, 10246, 49683, 43633, 13176, 472...\n",
       "36        [39612, 19660, 49235, 43086, 46620, 34497, 486...\n",
       "38        [11913, 18159, 4461, 21616, 23622, 32433, 2884...\n",
       "96        [20574, 30391, 40706, 25610, 27966, 24489, 39275]\n",
       "98        [8859, 19731, 43654, 13176, 4357, 37664, 34065...\n",
       "                                ...                        \n",
       "246741     [24852, 27307, 49628, 42736, 8239, 28934, 13409]\n",
       "246768    [34049, 24830, 43961, 21137, 9484, 42093, 5456...\n",
       "246788    [44623, 34739, 35669, 3358, 45548, 19133, 4174...\n",
       "246796    [11422, 21903, 29600, 15934, 8532, 7877, 4853,...\n",
       "246834            [33000, 13176, 27104, 6046, 35951, 24810]\n",
       "Length: 9477, dtype: object"
      ]
     },
     "execution_count": 54,
     "metadata": {},
     "output_type": "execute_result"
    }
   ],
   "source": [
    "transactions"
   ]
  },
  {
   "cell_type": "code",
   "execution_count": 56,
   "id": "fe3a2f43-6bfe-4872-9c91-01e0bc81003c",
   "metadata": {},
   "outputs": [],
   "source": [
    "# finally, we can make list of transactions as below.\n",
    "trans_list = transactions.tolist()"
   ]
  },
  {
   "cell_type": "code",
   "execution_count": 58,
   "id": "b5729a90-8313-4961-b3c4-29e016af3bf5",
   "metadata": {},
   "outputs": [],
   "source": [
    "# method 2. sort-based"
   ]
  },
  {
   "cell_type": "code",
   "execution_count": 59,
   "id": "7d7b6301-35c4-40a2-9fa9-15c09512b541",
   "metadata": {},
   "outputs": [],
   "source": [
    "# this sort-based transformation is manually designed for reducing computations.\n",
    "# since groupby is split-apply-combine approach is somewhat complex."
   ]
  },
  {
   "cell_type": "code",
   "execution_count": null,
   "id": "95008ffd-2df5-4bf6-b746-9a833fd7de9f",
   "metadata": {},
   "outputs": [],
   "source": [
    "# the concept is simple. It takes sort and split approach."
   ]
  },
  {
   "cell_type": "code",
   "execution_count": 60,
   "id": "3e8443a5-20ea-4783-a6f1-3ac93a2e51c1",
   "metadata": {},
   "outputs": [
    {
     "data": {
      "text/html": [
       "<div>\n",
       "<style scoped>\n",
       "    .dataframe tbody tr th:only-of-type {\n",
       "        vertical-align: middle;\n",
       "    }\n",
       "\n",
       "    .dataframe tbody tr th {\n",
       "        vertical-align: top;\n",
       "    }\n",
       "\n",
       "    .dataframe thead th {\n",
       "        text-align: right;\n",
       "    }\n",
       "</style>\n",
       "<table border=\"1\" class=\"dataframe\">\n",
       "  <thead>\n",
       "    <tr style=\"text-align: right;\">\n",
       "      <th></th>\n",
       "      <th>order_id</th>\n",
       "      <th>product_id</th>\n",
       "      <th>add_to_cart_order</th>\n",
       "      <th>reordered</th>\n",
       "    </tr>\n",
       "  </thead>\n",
       "  <tbody>\n",
       "    <tr>\n",
       "      <th>0</th>\n",
       "      <td>1</td>\n",
       "      <td>49302</td>\n",
       "      <td>1</td>\n",
       "      <td>1</td>\n",
       "    </tr>\n",
       "    <tr>\n",
       "      <th>1</th>\n",
       "      <td>1</td>\n",
       "      <td>11109</td>\n",
       "      <td>2</td>\n",
       "      <td>1</td>\n",
       "    </tr>\n",
       "    <tr>\n",
       "      <th>2</th>\n",
       "      <td>1</td>\n",
       "      <td>10246</td>\n",
       "      <td>3</td>\n",
       "      <td>0</td>\n",
       "    </tr>\n",
       "    <tr>\n",
       "      <th>3</th>\n",
       "      <td>1</td>\n",
       "      <td>49683</td>\n",
       "      <td>4</td>\n",
       "      <td>0</td>\n",
       "    </tr>\n",
       "    <tr>\n",
       "      <th>4</th>\n",
       "      <td>1</td>\n",
       "      <td>43633</td>\n",
       "      <td>5</td>\n",
       "      <td>1</td>\n",
       "    </tr>\n",
       "    <tr>\n",
       "      <th>...</th>\n",
       "      <td>...</td>\n",
       "      <td>...</td>\n",
       "      <td>...</td>\n",
       "      <td>...</td>\n",
       "    </tr>\n",
       "    <tr>\n",
       "      <th>99996</th>\n",
       "      <td>246834</td>\n",
       "      <td>27104</td>\n",
       "      <td>3</td>\n",
       "      <td>1</td>\n",
       "    </tr>\n",
       "    <tr>\n",
       "      <th>99998</th>\n",
       "      <td>246834</td>\n",
       "      <td>35951</td>\n",
       "      <td>5</td>\n",
       "      <td>1</td>\n",
       "    </tr>\n",
       "    <tr>\n",
       "      <th>99994</th>\n",
       "      <td>246834</td>\n",
       "      <td>33000</td>\n",
       "      <td>1</td>\n",
       "      <td>1</td>\n",
       "    </tr>\n",
       "    <tr>\n",
       "      <th>99995</th>\n",
       "      <td>246834</td>\n",
       "      <td>13176</td>\n",
       "      <td>2</td>\n",
       "      <td>1</td>\n",
       "    </tr>\n",
       "    <tr>\n",
       "      <th>99999</th>\n",
       "      <td>246834</td>\n",
       "      <td>24810</td>\n",
       "      <td>6</td>\n",
       "      <td>1</td>\n",
       "    </tr>\n",
       "  </tbody>\n",
       "</table>\n",
       "<p>100000 rows × 4 columns</p>\n",
       "</div>"
      ],
      "text/plain": [
       "       order_id  product_id  add_to_cart_order  reordered\n",
       "0             1       49302                  1          1\n",
       "1             1       11109                  2          1\n",
       "2             1       10246                  3          0\n",
       "3             1       49683                  4          0\n",
       "4             1       43633                  5          1\n",
       "...         ...         ...                ...        ...\n",
       "99996    246834       27104                  3          1\n",
       "99998    246834       35951                  5          1\n",
       "99994    246834       33000                  1          1\n",
       "99995    246834       13176                  2          1\n",
       "99999    246834       24810                  6          1\n",
       "\n",
       "[100000 rows x 4 columns]"
      ]
     },
     "execution_count": 60,
     "metadata": {},
     "output_type": "execute_result"
    }
   ],
   "source": [
    "# at first, sort the dataframe by order_id to gather the information of the same order.\n",
    "sorted_df = df.sort_values(by=\"order_id\")\n",
    "sorted_df"
   ]
  },
  {
   "cell_type": "code",
   "execution_count": 61,
   "id": "c4d7c1f0-83c2-4ac3-b759-0314b973103b",
   "metadata": {},
   "outputs": [],
   "source": [
    "# to split different orders we need to capture the rows where order_id changes."
   ]
  },
  {
   "cell_type": "code",
   "execution_count": 62,
   "id": "b6b4a287-32b0-4451-9307-fe131eeddc3d",
   "metadata": {},
   "outputs": [],
   "source": [
    "order_ids = sorted_df[\"order_id\"].to_numpy()"
   ]
  },
  {
   "cell_type": "code",
   "execution_count": 66,
   "id": "9b1acfdc-7dd7-4be2-9bf8-37c6d8c869a6",
   "metadata": {},
   "outputs": [],
   "source": [
    "# find rows where their next order_id is not same.\n",
    "# their location indicate the last position of each order_id.\n",
    "last_indexes = np.where(order_ids[:-1] != order_ids[1:])[0]\n",
    "# next location of last indexes are the start locations of next order.\n",
    "start_indexes = last_indexes + 1\n",
    "\n",
    "# now we need to add missing indexes.\n",
    "# the first row in the overall sorted dataframe is also the start index.\n",
    "start_indexes = np.append(0, start_indexes)\n",
    "\n",
    "# also, the last row in the overall sorted dataframe is also the last index.\n",
    "last_indexes = np.append(last_indexes, sorted_df.shape[0] - 1)"
   ]
  },
  {
   "cell_type": "code",
   "execution_count": 70,
   "id": "5162f75e-3a82-408b-ae61-53237626f6c7",
   "metadata": {},
   "outputs": [],
   "source": [
    "# extract products between each start_index and last index.\n",
    "product_ids = df[\"product_id\"].tolist()\n",
    "\n",
    "# list comprehension. (if this is not familiar, make an empty list and append each transaction by iterating for loop.)\n",
    "# here, 'zip' groups and returns start_indexes and last_indexes.\n",
    "trans_list_v2 = [\n",
    "    product_ids[start_index:last_index + 1] for start_index, last_index in zip(start_indexes, last_indexes)\n",
    "]"
   ]
  },
  {
   "cell_type": "code",
   "execution_count": 72,
   "id": "1519e043-cdab-430b-88b5-ec9099f440e5",
   "metadata": {},
   "outputs": [
    {
     "data": {
      "text/plain": [
       "[[49302, 11109, 10246, 49683, 43633, 13176, 47209, 22035],\n",
       " [39612, 19660, 49235, 43086, 46620, 34497, 48679, 46979],\n",
       " [11913, 18159, 4461, 21616, 23622, 32433, 28842, 42625, 39693]]"
      ]
     },
     "execution_count": 72,
     "metadata": {},
     "output_type": "execute_result"
    }
   ],
   "source": [
    "trans_list_v2[:3]"
   ]
  },
  {
   "cell_type": "code",
   "execution_count": 73,
   "id": "3e3bd25a-be8c-4d2f-b18a-2a30aa354deb",
   "metadata": {},
   "outputs": [],
   "source": [
    "# after this data format transformation, we can apply apriori directly."
   ]
  },
  {
   "cell_type": "code",
   "execution_count": 76,
   "id": "e7fc59f1-e819-4fff-ae00-b3836e2e484e",
   "metadata": {},
   "outputs": [
    {
     "data": {
      "text/plain": [
       "[]"
      ]
     },
     "execution_count": 76,
     "metadata": {},
     "output_type": "execute_result"
    }
   ],
   "source": [
    "list(apriori(trans_list, min_support=0.5, min_conf=0.5))"
   ]
  },
  {
   "cell_type": "code",
   "execution_count": 78,
   "id": "f15ed40a-e5ca-4a6a-9b46-f20ba3cfd42d",
   "metadata": {},
   "outputs": [],
   "source": [
    "# the reason for this trivial result is inappropriate parameters.\n",
    "# we need to set proper values depending on the dataset used."
   ]
  },
  {
   "cell_type": "code",
   "execution_count": 82,
   "id": "ec256990-2fbf-49e6-a378-d14ea1901dd7",
   "metadata": {},
   "outputs": [],
   "source": [
    "# to find proper values, we need to investigate the transaction dataset.\n",
    "# we can use 'Counter' to count the number of products in transaction data."
   ]
  },
  {
   "cell_type": "code",
   "execution_count": 80,
   "id": "c43b86c1-f0c3-4e18-a848-51180c4bb88c",
   "metadata": {},
   "outputs": [],
   "source": [
    "from collections import Counter\n",
    "\n",
    "product_counter = Counter()\n",
    "for transaction in trans_list:\n",
    "    product_counter.update(transaction)"
   ]
  },
  {
   "cell_type": "code",
   "execution_count": 84,
   "id": "6d0daee2-5c2d-4c18-b0c1-2b53fbafd2d0",
   "metadata": {},
   "outputs": [
    {
     "name": "stdout",
     "output_type": "stream",
     "text": [
      "[(24852, 1338),\n",
      " (13176, 1130),\n",
      " (21137, 776),\n",
      " (21903, 705),\n",
      " (47626, 594),\n",
      " (47766, 555),\n",
      " (47209, 508),\n",
      " (16797, 470),\n",
      " (26209, 416),\n",
      " (27966, 388),\n",
      " (27845, 368),\n",
      " (30391, 352),\n",
      " (39275, 336),\n",
      " (45007, 325),\n",
      " (40706, 305),\n",
      " (4920, 303),\n",
      " (24964, 300),\n",
      " (22935, 300),\n",
      " (8518, 289),\n",
      " (45066, 278),\n",
      " (42265, 276),\n",
      " (44632, 274),\n",
      " (46979, 270),\n",
      " (5876, 270),\n",
      " (31717, 268),\n",
      " (4605, 245),\n",
      " (43352, 239),\n",
      " (19057, 233),\n",
      " (28204, 230),\n",
      " (5450, 224)]\n"
     ]
    }
   ],
   "source": [
    "pprint(product_counter.most_common(30))\n",
    "# the method 'most_common' of Counter object returns tuples of (product_id, its count)."
   ]
  },
  {
   "cell_type": "code",
   "execution_count": null,
   "id": "091d333f-3b8e-4576-ae2d-8eeb5a3badea",
   "metadata": {},
   "outputs": [],
   "source": [
    "# see the largest support in this transaction dataset."
   ]
  },
  {
   "cell_type": "code",
   "execution_count": 85,
   "id": "f2b00eb7-3d0f-4e24-aa51-8427915e5716",
   "metadata": {},
   "outputs": [
    {
     "data": {
      "text/plain": [
       "0.14118391896169674"
      ]
     },
     "execution_count": 85,
     "metadata": {},
     "output_type": "execute_result"
    }
   ],
   "source": [
    "1338 / len(trans_list)"
   ]
  },
  {
   "cell_type": "code",
   "execution_count": 86,
   "id": "14866937-90db-4ab4-a5bd-70c9cd5c32f7",
   "metadata": {},
   "outputs": [],
   "source": [
    "# as you can see here, the range of effective support to search frequent itemsets varies across datasets."
   ]
  },
  {
   "cell_type": "code",
   "execution_count": 87,
   "id": "99c0a0b0-3edf-4cda-9c95-8450310fb9c0",
   "metadata": {},
   "outputs": [
    {
     "name": "stdout",
     "output_type": "stream",
     "text": [
      "0.14118391896169674\n",
      "0.11923604516197109\n",
      "0.08188245225282262\n",
      "0.0743906299461855\n",
      "0.06267806267806268\n",
      "0.05856283634061412\n",
      "0.053603461010868415\n",
      "0.049593753297457\n",
      "0.0438957475994513\n",
      "0.04094122612641131\n",
      "0.03883085364566846\n",
      "0.03714255566107418\n",
      "0.035454257676479896\n",
      "0.03429355281207133\n",
      "0.03218318033132848\n",
      "0.0319721430832542\n",
      "0.03165558721114277\n",
      "0.03165558721114277\n",
      "0.030494882346734198\n",
      "0.02933417748232563\n",
      "0.029123140234251346\n",
      "0.02891210298617706\n",
      "0.02849002849002849\n",
      "0.02849002849002849\n",
      "0.028278991241954207\n",
      "0.025852062889099928\n",
      "0.025218951144877072\n",
      "0.024585839400654216\n",
      "0.02426928352854279\n",
      "0.023636171784319933\n"
     ]
    }
   ],
   "source": [
    "for product_id, product_count in product_counter.most_common(30):\n",
    "    print(product_count / len(trans_list))"
   ]
  },
  {
   "cell_type": "code",
   "execution_count": 88,
   "id": "e13ee767-8ace-4cce-b411-455c8b47a507",
   "metadata": {},
   "outputs": [],
   "source": [
    "# to encompass many key items, I set the smaller support.\n",
    "min_supp = 0.001\n",
    "min_conf = 0.6\n",
    "min_lift = 1.01"
   ]
  },
  {
   "cell_type": "code",
   "execution_count": 89,
   "id": "394c2d88-5953-4533-a833-8ab6ebf903df",
   "metadata": {},
   "outputs": [
    {
     "ename": "NameError",
     "evalue": "name 'reulsts' is not defined",
     "output_type": "error",
     "traceback": [
      "\u001b[0;31m---------------------------------------------------------------------------\u001b[0m",
      "\u001b[0;31mNameError\u001b[0m                                 Traceback (most recent call last)",
      "Cell \u001b[0;32mIn[89], line 3\u001b[0m\n\u001b[1;32m      1\u001b[0m rules \u001b[38;5;241m=\u001b[39m apriori(trans_list, min_support\u001b[38;5;241m=\u001b[39mmin_supp, min_confidence\u001b[38;5;241m=\u001b[39mmin_conf, min_lift\u001b[38;5;241m=\u001b[39mmin_lift)\n\u001b[1;32m      2\u001b[0m results \u001b[38;5;241m=\u001b[39m \u001b[38;5;28mlist\u001b[39m(rules)\n\u001b[0;32m----> 3\u001b[0m \u001b[38;5;28;01mfor\u001b[39;00m row \u001b[38;5;129;01min\u001b[39;00m \u001b[43mreulsts\u001b[49m:\n\u001b[1;32m      4\u001b[0m     print_rule(row)\n",
      "\u001b[0;31mNameError\u001b[0m: name 'reulsts' is not defined"
     ]
    }
   ],
   "source": [
    "rules = apriori(trans_list, min_support=min_supp, min_confidence=min_conf, min_lift=min_lift)\n",
    "results = list(rules)"
   ]
  },
  {
   "cell_type": "code",
   "execution_count": 90,
   "id": "3a5ccb2d-69c2-4df0-b5bf-48ffe235d81e",
   "metadata": {
    "scrolled": true
   },
   "outputs": [
    {
     "name": "stdout",
     "output_type": "stream",
     "text": [
      "==============================\n",
      "Frequent itemset: {9203, 8710}\n",
      "The number of rules: 1\n",
      "frozenset({8710}) -> frozenset({9203}) | support: 0.001 | confidence: 0.600 | lift: 270.771\n",
      "==============================\n",
      "Frequent itemset: {15842, 9203}\n",
      "The number of rules: 1\n",
      "frozenset({15842}) -> frozenset({9203}) | support: 0.001 | confidence: 0.667 | lift: 300.857\n",
      "==============================\n",
      "Frequent itemset: {15984, 48220}\n",
      "The number of rules: 2\n",
      "frozenset({15984}) -> frozenset({48220}) | support: 0.001 | confidence: 0.667 | lift: 394.875\n",
      "frozenset({48220}) -> frozenset({15984}) | support: 0.001 | confidence: 0.625 | lift: 394.875\n",
      "==============================\n",
      "Frequent itemset: {24852, 4605, 16797}\n",
      "The number of rules: 1\n",
      "frozenset({4605, 16797}) -> frozenset({24852}) | support: 0.001 | confidence: 0.722 | lift: 5.115\n",
      "==============================\n",
      "Frequent itemset: {13176, 40706, 5876}\n",
      "The number of rules: 1\n",
      "frozenset({40706, 5876}) -> frozenset({13176}) | support: 0.001 | confidence: 0.632 | lift: 5.297\n",
      "==============================\n",
      "Frequent itemset: {13176, 21137, 7948}\n",
      "The number of rules: 1\n",
      "frozenset({21137, 7948}) -> frozenset({13176}) | support: 0.001 | confidence: 0.786 | lift: 6.590\n",
      "==============================\n",
      "Frequent itemset: {13176, 27966, 8174}\n",
      "The number of rules: 1\n",
      "frozenset({27966, 8174}) -> frozenset({13176}) | support: 0.001 | confidence: 0.632 | lift: 5.297\n",
      "==============================\n",
      "Frequent itemset: {13176, 8277, 45007}\n",
      "The number of rules: 1\n",
      "frozenset({8277, 45007}) -> frozenset({13176}) | support: 0.001 | confidence: 0.706 | lift: 5.920\n",
      "==============================\n",
      "Frequent itemset: {34358, 47626, 8518}\n",
      "The number of rules: 1\n",
      "frozenset({34358, 8518}) -> frozenset({47626}) | support: 0.001 | confidence: 0.611 | lift: 9.750\n",
      "==============================\n",
      "Frequent itemset: {13176, 19057, 27845}\n",
      "The number of rules: 1\n",
      "frozenset({19057, 27845}) -> frozenset({13176}) | support: 0.001 | confidence: 0.667 | lift: 5.591\n",
      "==============================\n",
      "Frequent itemset: {13176, 19057, 27966}\n",
      "The number of rules: 1\n",
      "frozenset({19057, 27966}) -> frozenset({13176}) | support: 0.002 | confidence: 0.625 | lift: 5.242\n",
      "==============================\n",
      "Frequent itemset: {13176, 47209, 22035}\n",
      "The number of rules: 1\n",
      "frozenset({47209, 22035}) -> frozenset({13176}) | support: 0.002 | confidence: 0.652 | lift: 5.470\n",
      "==============================\n",
      "Frequent itemset: {13176, 22825, 47209}\n",
      "The number of rules: 1\n",
      "frozenset({22825, 47209}) -> frozenset({13176}) | support: 0.002 | confidence: 0.625 | lift: 5.242\n",
      "==============================\n",
      "Frequent itemset: {13176, 27966, 24838}\n",
      "The number of rules: 1\n",
      "frozenset({27966, 24838}) -> frozenset({13176}) | support: 0.001 | confidence: 0.600 | lift: 5.032\n",
      "==============================\n",
      "Frequent itemset: {13176, 27966, 35951}\n",
      "The number of rules: 1\n",
      "frozenset({27966, 35951}) -> frozenset({13176}) | support: 0.001 | confidence: 0.684 | lift: 5.738\n",
      "==============================\n",
      "Frequent itemset: {13176, 46667, 27966}\n",
      "The number of rules: 1\n",
      "frozenset({46667, 27966}) -> frozenset({13176}) | support: 0.001 | confidence: 0.750 | lift: 6.290\n",
      "==============================\n",
      "Frequent itemset: {13176, 47209, 35951}\n",
      "The number of rules: 1\n",
      "frozenset({47209, 35951}) -> frozenset({13176}) | support: 0.002 | confidence: 0.600 | lift: 5.032\n",
      "==============================\n",
      "Frequent itemset: {13176, 39877, 45007}\n",
      "The number of rules: 1\n",
      "frozenset({39877, 45007}) -> frozenset({13176}) | support: 0.001 | confidence: 0.611 | lift: 5.125\n",
      "==============================\n",
      "Frequent itemset: {45066, 24852, 16797}\n",
      "The number of rules: 1\n",
      "frozenset({45066, 16797}) -> frozenset({24852}) | support: 0.002 | confidence: 0.667 | lift: 4.722\n",
      "==============================\n",
      "Frequent itemset: {21137, 26604, 26209}\n",
      "The number of rules: 1\n",
      "frozenset({26209, 26604}) -> frozenset({21137}) | support: 0.001 | confidence: 0.647 | lift: 7.902\n",
      "==============================\n",
      "Frequent itemset: {24852, 39877, 47766}\n",
      "The number of rules: 1\n",
      "frozenset({39877, 47766}) -> frozenset({24852}) | support: 0.001 | confidence: 0.684 | lift: 4.846\n",
      "==============================\n",
      "Frequent itemset: {24852, 47766, 46676}\n",
      "The number of rules: 1\n",
      "frozenset({46676, 47766}) -> frozenset({24852}) | support: 0.001 | confidence: 0.714 | lift: 5.059\n",
      "==============================\n",
      "Frequent itemset: {31553, 26209, 47626}\n",
      "The number of rules: 1\n",
      "frozenset({31553, 26209}) -> frozenset({47626}) | support: 0.001 | confidence: 0.688 | lift: 10.969\n",
      "==============================\n",
      "Frequent itemset: {26209, 47626, 46979}\n",
      "The number of rules: 1\n",
      "frozenset({26209, 46979}) -> frozenset({47626}) | support: 0.002 | confidence: 0.629 | lift: 10.029\n",
      "==============================\n",
      "Frequent itemset: {47209, 27966, 35951}\n",
      "The number of rules: 1\n",
      "frozenset({27966, 35951}) -> frozenset({47209}) | support: 0.001 | confidence: 0.632 | lift: 11.782\n",
      "==============================\n",
      "Frequent itemset: {13176, 47209, 5876, 21903}\n",
      "The number of rules: 1\n",
      "frozenset({47209, 5876, 21903}) -> frozenset({13176}) | support: 0.001 | confidence: 0.706 | lift: 5.920\n",
      "==============================\n",
      "Frequent itemset: {26209, 47626, 47766, 8518}\n",
      "The number of rules: 1\n",
      "frozenset({47626, 47766, 8518}) -> frozenset({26209}) | support: 0.001 | confidence: 0.611 | lift: 13.922\n",
      "==============================\n",
      "Frequent itemset: {13176, 19057, 21137, 27966}\n",
      "The number of rules: 2\n",
      "frozenset({13176, 19057, 27966}) -> frozenset({21137}) | support: 0.001 | confidence: 0.650 | lift: 7.938\n",
      "frozenset({19057, 21137, 27966}) -> frozenset({13176}) | support: 0.001 | confidence: 0.722 | lift: 6.057\n",
      "==============================\n",
      "Frequent itemset: {13176, 19057, 21137, 47209}\n",
      "The number of rules: 1\n",
      "frozenset({19057, 21137, 47209}) -> frozenset({13176}) | support: 0.001 | confidence: 0.733 | lift: 6.150\n",
      "==============================\n",
      "Frequent itemset: {13176, 21137, 30391, 21903}\n",
      "The number of rules: 2\n",
      "frozenset({13176, 30391, 21903}) -> frozenset({21137}) | support: 0.001 | confidence: 0.722 | lift: 8.820\n",
      "frozenset({21137, 30391, 21903}) -> frozenset({13176}) | support: 0.001 | confidence: 0.650 | lift: 5.451\n",
      "==============================\n",
      "Frequent itemset: {13176, 21137, 47209, 27966}\n",
      "The number of rules: 1\n",
      "frozenset({21137, 47209, 27966}) -> frozenset({13176}) | support: 0.002 | confidence: 0.760 | lift: 6.374\n",
      "==============================\n",
      "Frequent itemset: {13176, 21137, 47209, 30391}\n",
      "The number of rules: 1\n",
      "frozenset({21137, 47209, 30391}) -> frozenset({13176}) | support: 0.002 | confidence: 0.833 | lift: 6.989\n",
      "==============================\n",
      "Frequent itemset: {13176, 47209, 27966, 35951}\n",
      "The number of rules: 2\n",
      "frozenset({13176, 27966, 35951}) -> frozenset({47209}) | support: 0.001 | confidence: 0.769 | lift: 14.350\n",
      "frozenset({47209, 27966, 35951}) -> frozenset({13176}) | support: 0.001 | confidence: 0.833 | lift: 6.989\n"
     ]
    }
   ],
   "source": [
    "for row in results:\n",
    "    print_rule(row)"
   ]
  },
  {
   "cell_type": "code",
   "execution_count": 91,
   "id": "2f988a8f-5318-4dea-81e4-1ae3dfb0f9d0",
   "metadata": {},
   "outputs": [],
   "source": [
    "# another dataset."
   ]
  },
  {
   "cell_type": "code",
   "execution_count": 92,
   "id": "21a4ba19-8c71-475e-8b4e-32269769052e",
   "metadata": {},
   "outputs": [
    {
     "data": {
      "text/html": [
       "<div>\n",
       "<style scoped>\n",
       "    .dataframe tbody tr th:only-of-type {\n",
       "        vertical-align: middle;\n",
       "    }\n",
       "\n",
       "    .dataframe tbody tr th {\n",
       "        vertical-align: top;\n",
       "    }\n",
       "\n",
       "    .dataframe thead th {\n",
       "        text-align: right;\n",
       "    }\n",
       "</style>\n",
       "<table border=\"1\" class=\"dataframe\">\n",
       "  <thead>\n",
       "    <tr style=\"text-align: right;\">\n",
       "      <th></th>\n",
       "      <th>date</th>\n",
       "      <th>id</th>\n",
       "      <th>item</th>\n",
       "    </tr>\n",
       "  </thead>\n",
       "  <tbody>\n",
       "    <tr>\n",
       "      <th>0</th>\n",
       "      <td>2000-01-01</td>\n",
       "      <td>1</td>\n",
       "      <td>yogurt</td>\n",
       "    </tr>\n",
       "    <tr>\n",
       "      <th>1</th>\n",
       "      <td>2000-01-01</td>\n",
       "      <td>1</td>\n",
       "      <td>pork</td>\n",
       "    </tr>\n",
       "    <tr>\n",
       "      <th>2</th>\n",
       "      <td>2000-01-01</td>\n",
       "      <td>1</td>\n",
       "      <td>sandwich bags</td>\n",
       "    </tr>\n",
       "    <tr>\n",
       "      <th>3</th>\n",
       "      <td>2000-01-01</td>\n",
       "      <td>1</td>\n",
       "      <td>lunch meat</td>\n",
       "    </tr>\n",
       "    <tr>\n",
       "      <th>4</th>\n",
       "      <td>2000-01-01</td>\n",
       "      <td>1</td>\n",
       "      <td>all- purpose</td>\n",
       "    </tr>\n",
       "  </tbody>\n",
       "</table>\n",
       "</div>"
      ],
      "text/plain": [
       "         date  id           item\n",
       "0  2000-01-01   1         yogurt\n",
       "1  2000-01-01   1           pork\n",
       "2  2000-01-01   1  sandwich bags\n",
       "3  2000-01-01   1     lunch meat\n",
       "4  2000-01-01   1   all- purpose"
      ]
     },
     "execution_count": 92,
     "metadata": {},
     "output_type": "execute_result"
    }
   ],
   "source": [
    "df = pd.read_csv(\"./datasets/random_shopping_cart.csv\", names=[\"date\", \"id\", \"item\"])\n",
    "df.head()"
   ]
  },
  {
   "cell_type": "code",
   "execution_count": 93,
   "id": "c406ecc7-af7e-418a-b1b6-a61108a551b1",
   "metadata": {},
   "outputs": [],
   "source": [
    "# you can practice the same transformation process and application of apriori algorithm for this dataset."
   ]
  },
  {
   "cell_type": "code",
   "execution_count": null,
   "id": "d4328341-bd7b-4bb7-9dfc-78bfb6be9ca0",
   "metadata": {},
   "outputs": [],
   "source": []
  }
 ],
 "metadata": {
  "kernelspec": {
   "display_name": "Python 3 (ipykernel)",
   "language": "python",
   "name": "python3"
  },
  "language_info": {
   "codemirror_mode": {
    "name": "ipython",
    "version": 3
   },
   "file_extension": ".py",
   "mimetype": "text/x-python",
   "name": "python",
   "nbconvert_exporter": "python",
   "pygments_lexer": "ipython3",
   "version": "3.9.18"
  }
 },
 "nbformat": 4,
 "nbformat_minor": 5
}
